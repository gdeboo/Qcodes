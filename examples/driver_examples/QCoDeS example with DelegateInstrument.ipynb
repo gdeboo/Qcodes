{
 "cells": [
  {
   "cell_type": "markdown",
   "id": "plain-primary",
   "metadata": {},
   "source": [
    "# Qcodes example with DelegateInstrument driver\n",
    "\n",
    "This notebooks explains how to use the `DelegateInstrument` driver.\n",
    "\n",
    "## About\n",
    "The goal of the `DelegateInstrument` driver is to make it easier to combine different parameters together into a new \"virtual\" instrument. Each parameter on a `DelegateInstrument` can point to one or more parameters on other instruments in the station.\n",
    "\n",
    "## Usage\n",
    "The way it's used is mainly by specifying an entry in the station YAML. For instance, let's say you want to use a magnetic field coil. The driver has a method set_field(value, block), that by default is set to block=True, which means the field is ramped in a way that blocks further execution until the desired value is reached. However, let's say you are creating a measurement in which you want the parameter to be set, and while the value is ramping, you want to measure other parameters. This can be done by using `DelegateInstrument` and specifying a custom `setter` for the parameter that gets and sets the magnetic field.\n",
    "\n",
    "By default, each parameter is represented by a `DelegateParameter`. The `DelegateInstrument` also supports passing multiple source parameters to a given parameter. In order to do this, simply specify multiple parameters in the dictionary values  under the `parameters` key.\n",
    "\n",
    "It can also add instrument channels, specified under a separate key `channels`, shown in the second half of the notebook."
   ]
  },
  {
   "cell_type": "code",
   "execution_count": 1,
   "id": "sapphire-quebec",
   "metadata": {
    "execution": {
     "iopub.execute_input": "2022-01-10T11:10:38.651490Z",
     "iopub.status.busy": "2022-01-10T11:10:38.650922Z",
     "iopub.status.idle": "2022-01-10T11:10:38.661436Z",
     "shell.execute_reply": "2022-01-10T11:10:38.661856Z"
    }
   },
   "outputs": [
    {
     "name": "stdout",
     "output_type": "stream",
     "text": [
      "Writing example.yaml\n"
     ]
    }
   ],
   "source": [
    "%%writefile example.yaml\n",
    "\n",
    "instruments:\n",
    "  field_X:\n",
    "    type: qcodes.tests.instrument_mocks.MockField\n",
    "\n",
    "  field:\n",
    "    type: qcodes.instrument.delegate.DelegateInstrument\n",
    "    init:\n",
    "      parameters:\n",
    "        X:\n",
    "          - field_X.field\n",
    "        ramp_rate:\n",
    "          - field_X.ramp_rate\n",
    "        combined:\n",
    "          - field_X.field\n",
    "          - field_X.ramp_rate\n",
    "      set_initial_values_on_load: true\n",
    "      initial_values:\n",
    "        ramp_rate: 1.0\n",
    "      setters:\n",
    "        X:\n",
    "          method: field_X.set_field\n",
    "          block: false"
   ]
  },
  {
   "cell_type": "code",
   "execution_count": 2,
   "id": "younger-newspaper",
   "metadata": {
    "execution": {
     "iopub.execute_input": "2022-01-10T11:10:38.666552Z",
     "iopub.status.busy": "2022-01-10T11:10:38.665758Z",
     "iopub.status.idle": "2022-01-10T11:10:38.965801Z",
     "shell.execute_reply": "2022-01-10T11:10:38.964989Z"
    }
   },
   "outputs": [],
   "source": [
    "import qcodes as qc"
   ]
  },
  {
   "cell_type": "code",
   "execution_count": 3,
   "id": "muslim-briefs",
   "metadata": {
    "execution": {
     "iopub.execute_input": "2022-01-10T11:10:38.971059Z",
     "iopub.status.busy": "2022-01-10T11:10:38.969875Z",
     "iopub.status.idle": "2022-01-10T11:10:38.985793Z",
     "shell.execute_reply": "2022-01-10T11:10:38.985006Z"
    }
   },
   "outputs": [],
   "source": [
    "station = qc.Station(config_file=\"example.yaml\")"
   ]
  },
  {
   "cell_type": "code",
   "execution_count": 4,
   "id": "greatest-antenna",
   "metadata": {
    "execution": {
     "iopub.execute_input": "2022-01-10T11:10:38.998312Z",
     "iopub.status.busy": "2022-01-10T11:10:38.988731Z",
     "iopub.status.idle": "2022-01-10T11:10:39.015402Z",
     "shell.execute_reply": "2022-01-10T11:10:39.015813Z"
    }
   },
   "outputs": [],
   "source": [
    "field_X = station.load_field_X()\n",
    "field = station.load_field(station=station)"
   ]
  },
  {
   "cell_type": "code",
   "execution_count": 5,
   "id": "every-playing",
   "metadata": {
    "execution": {
     "iopub.execute_input": "2022-01-10T11:10:39.024498Z",
     "iopub.status.busy": "2022-01-10T11:10:39.023770Z",
     "iopub.status.idle": "2022-01-10T11:10:39.029235Z",
     "shell.execute_reply": "2022-01-10T11:10:39.029675Z"
    }
   },
   "outputs": [
    {
     "data": {
      "text/plain": [
       "0.0"
      ]
     },
     "execution_count": 5,
     "metadata": {},
     "output_type": "execute_result"
    }
   ],
   "source": [
    "field.X()"
   ]
  },
  {
   "cell_type": "code",
   "execution_count": 6,
   "id": "undefined-worst",
   "metadata": {
    "execution": {
     "iopub.execute_input": "2022-01-10T11:10:39.033489Z",
     "iopub.status.busy": "2022-01-10T11:10:39.032879Z",
     "iopub.status.idle": "2022-01-10T11:10:39.036319Z",
     "shell.execute_reply": "2022-01-10T11:10:39.036756Z"
    }
   },
   "outputs": [],
   "source": [
    "field.X(1.)"
   ]
  },
  {
   "cell_type": "code",
   "execution_count": 7,
   "id": "recreational-suggestion",
   "metadata": {
    "execution": {
     "iopub.execute_input": "2022-01-10T11:10:39.042331Z",
     "iopub.status.busy": "2022-01-10T11:10:39.041264Z",
     "iopub.status.idle": "2022-01-10T11:10:39.044492Z",
     "shell.execute_reply": "2022-01-10T11:10:39.045015Z"
    }
   },
   "outputs": [
    {
     "data": {
      "text/plain": [
       "0.00011975765228271485"
      ]
     },
     "execution_count": 7,
     "metadata": {},
     "output_type": "execute_result"
    }
   ],
   "source": [
    "field.X()"
   ]
  },
  {
   "cell_type": "code",
   "execution_count": 8,
   "id": "adopted-exchange",
   "metadata": {
    "execution": {
     "iopub.execute_input": "2022-01-10T11:10:39.050576Z",
     "iopub.status.busy": "2022-01-10T11:10:39.049508Z",
     "iopub.status.idle": "2022-01-10T11:10:39.052737Z",
     "shell.execute_reply": "2022-01-10T11:10:39.052291Z"
    }
   },
   "outputs": [
    {
     "data": {
      "text/plain": [
       "0.00025615294774373375"
      ]
     },
     "execution_count": 8,
     "metadata": {},
     "output_type": "execute_result"
    }
   ],
   "source": [
    "field.X()"
   ]
  },
  {
   "cell_type": "code",
   "execution_count": 9,
   "id": "bound-broadcasting",
   "metadata": {
    "execution": {
     "iopub.execute_input": "2022-01-10T11:10:39.058267Z",
     "iopub.status.busy": "2022-01-10T11:10:39.057232Z",
     "iopub.status.idle": "2022-01-10T11:10:39.060111Z",
     "shell.execute_reply": "2022-01-10T11:10:39.060592Z"
    }
   },
   "outputs": [
    {
     "data": {
      "text/plain": [
       "0.0003880182902018229"
      ]
     },
     "execution_count": 9,
     "metadata": {},
     "output_type": "execute_result"
    }
   ],
   "source": [
    "field.X()"
   ]
  },
  {
   "cell_type": "code",
   "execution_count": 10,
   "id": "casual-ghost",
   "metadata": {
    "execution": {
     "iopub.execute_input": "2022-01-10T11:10:39.066501Z",
     "iopub.status.busy": "2022-01-10T11:10:39.065543Z",
     "iopub.status.idle": "2022-01-10T11:10:39.068268Z",
     "shell.execute_reply": "2022-01-10T11:10:39.068716Z"
    }
   },
   "outputs": [
    {
     "data": {
      "text/plain": [
       "0.0005147973696390788"
      ]
     },
     "execution_count": 10,
     "metadata": {},
     "output_type": "execute_result"
    }
   ],
   "source": [
    "field.X()"
   ]
  },
  {
   "cell_type": "markdown",
   "id": "alike-process",
   "metadata": {},
   "source": [
    "As you can see, the field is now ramped in the background with the specified ramp rate. Now, let's try to create a measurement that uses this ability, and ramps the field in the background while measuring:"
   ]
  },
  {
   "cell_type": "code",
   "execution_count": 11,
   "id": "sustained-tiger",
   "metadata": {
    "execution": {
     "iopub.execute_input": "2022-01-10T11:10:39.072249Z",
     "iopub.status.busy": "2022-01-10T11:10:39.071754Z",
     "iopub.status.idle": "2022-01-10T11:10:39.077968Z",
     "shell.execute_reply": "2022-01-10T11:10:39.077397Z"
    }
   },
   "outputs": [],
   "source": [
    "field.ramp_rate(10.)\n",
    "field_X.field(0.0)"
   ]
  },
  {
   "cell_type": "code",
   "execution_count": 12,
   "id": "pharmaceutical-partition",
   "metadata": {
    "execution": {
     "iopub.execute_input": "2022-01-10T11:10:39.082948Z",
     "iopub.status.busy": "2022-01-10T11:10:39.082215Z",
     "iopub.status.idle": "2022-01-10T11:10:39.087829Z",
     "shell.execute_reply": "2022-01-10T11:10:39.087402Z"
    }
   },
   "outputs": [
    {
     "data": {
      "text/plain": [
       "0.0"
      ]
     },
     "execution_count": 12,
     "metadata": {},
     "output_type": "execute_result"
    }
   ],
   "source": [
    "field.X()"
   ]
  },
  {
   "cell_type": "code",
   "execution_count": 13,
   "id": "happy-ordinance",
   "metadata": {
    "execution": {
     "iopub.execute_input": "2022-01-10T11:10:39.093347Z",
     "iopub.status.busy": "2022-01-10T11:10:39.092716Z",
     "iopub.status.idle": "2022-01-10T11:10:40.326852Z",
     "shell.execute_reply": "2022-01-10T11:10:40.326359Z"
    }
   },
   "outputs": [
    {
     "name": "stdout",
     "output_type": "stream",
     "text": [
      "Starting experimental run with id: 60. \n"
     ]
    }
   ],
   "source": [
    "import time\n",
    "meas = qc.Measurement(station=station)\n",
    "meas.register_parameter(field.X)\n",
    "\n",
    "with meas.run() as datasaver:\n",
    "    for B in [0.1, 0.0]:\n",
    "        field.X(B)\n",
    "        while field.X() != B:\n",
    "            datasaver.add_result((field.X, field.X()))\n",
    "            time.sleep(0.01)\n",
    "    datasaver.flush_data_to_database()"
   ]
  },
  {
   "cell_type": "code",
   "execution_count": 14,
   "id": "short-medium",
   "metadata": {
    "execution": {
     "iopub.execute_input": "2022-01-10T11:10:40.329969Z",
     "iopub.status.busy": "2022-01-10T11:10:40.329408Z",
     "iopub.status.idle": "2022-01-10T11:10:41.489010Z",
     "shell.execute_reply": "2022-01-10T11:10:41.489697Z"
    }
   },
   "outputs": [
    {
     "data": {
      "text/plain": [
       "<AxesSubplot:>"
      ]
     },
     "execution_count": 14,
     "metadata": {},
     "output_type": "execute_result"
    },
    {
     "data": {
      "image/png": "[encoded data removed]",
      "text/plain": [
       "<Figure size 432x288 with 1 Axes>"
      ]
     },
     "metadata": {
      "needs_background": "light"
     },
     "output_type": "display_data"
    }
   ],
   "source": [
    "datasaver.dataset.to_pandas_dataframe().plot()"
   ]
  },
  {
   "cell_type": "markdown",
   "id": "incomplete-vietnamese",
   "metadata": {},
   "source": [
    "When specifying multiple source parameters on a given parameter, the grouped parameter will automatically return a `namedtuple` that returns both values."
   ]
  },
  {
   "cell_type": "code",
   "execution_count": 15,
   "id": "dangerous-finder",
   "metadata": {
    "execution": {
     "iopub.execute_input": "2022-01-10T11:10:41.495407Z",
     "iopub.status.busy": "2022-01-10T11:10:41.494883Z",
     "iopub.status.idle": "2022-01-10T11:10:41.498030Z",
     "shell.execute_reply": "2022-01-10T11:10:41.497492Z"
    }
   },
   "outputs": [
    {
     "data": {
      "text/plain": [
       "combined(field=0.0, ramp_rate=10.0)"
      ]
     },
     "execution_count": 15,
     "metadata": {},
     "output_type": "execute_result"
    }
   ],
   "source": [
    "field.combined()"
   ]
  },
  {
   "cell_type": "markdown",
   "id": "consolidated-cooper",
   "metadata": {},
   "source": [
    "We can now also create a custom parameter that does a simple calculation based on the current parameters."
   ]
  },
  {
   "cell_type": "code",
   "execution_count": 16,
   "id": "designed-bloom",
   "metadata": {
    "execution": {
     "iopub.execute_input": "2022-01-10T11:10:41.504301Z",
     "iopub.status.busy": "2022-01-10T11:10:41.503050Z",
     "iopub.status.idle": "2022-01-10T11:10:41.504867Z",
     "shell.execute_reply": "2022-01-10T11:10:41.505283Z"
    }
   },
   "outputs": [],
   "source": [
    "import numpy as np\n",
    "\n",
    "def calculate_ramp_time(X, ramp_rate):\n",
    "    \"\"\"Calculate ramp time in seconds\"\"\"\n",
    "    dfield = np.abs(field.target_field - X)\n",
    "    return 60. * dfield/ramp_rate"
   ]
  },
  {
   "cell_type": "code",
   "execution_count": 17,
   "id": "disabled-logic",
   "metadata": {
    "execution": {
     "iopub.execute_input": "2022-01-10T11:10:41.511901Z",
     "iopub.status.busy": "2022-01-10T11:10:41.509398Z",
     "iopub.status.idle": "2022-01-10T11:10:41.512625Z",
     "shell.execute_reply": "2022-01-10T11:10:41.513252Z"
    },
    "scrolled": true
   },
   "outputs": [],
   "source": [
    "field._create_and_add_parameter(\n",
    "    group_name=\"ramp_time\",\n",
    "    station=station,\n",
    "    paths=[\"field_X.field\", \"field_X.ramp_rate\"],\n",
    "    formatter=calculate_ramp_time\n",
    ")"
   ]
  },
  {
   "cell_type": "code",
   "execution_count": 18,
   "id": "adverse-february",
   "metadata": {
    "execution": {
     "iopub.execute_input": "2022-01-10T11:10:41.518518Z",
     "iopub.status.busy": "2022-01-10T11:10:41.517685Z",
     "iopub.status.idle": "2022-01-10T11:10:41.520608Z",
     "shell.execute_reply": "2022-01-10T11:10:41.521078Z"
    }
   },
   "outputs": [
    {
     "data": {
      "text/plain": [
       "6.0"
      ]
     },
     "execution_count": 18,
     "metadata": {},
     "output_type": "execute_result"
    }
   ],
   "source": [
    "field.ramp_rate(1.0)\n",
    "field.target_field = 0.1\n",
    "field.ramp_time()"
   ]
  },
  {
   "cell_type": "code",
   "execution_count": 19,
   "id": "statutory-xerox",
   "metadata": {
    "execution": {
     "iopub.execute_input": "2022-01-10T11:10:41.526208Z",
     "iopub.status.busy": "2022-01-10T11:10:41.524667Z",
     "iopub.status.idle": "2022-01-10T11:10:41.527027Z",
     "shell.execute_reply": "2022-01-10T11:10:41.527481Z"
    }
   },
   "outputs": [],
   "source": [
    "field.X(0.1)"
   ]
  },
  {
   "cell_type": "code",
   "execution_count": 20,
   "id": "varying-auditor",
   "metadata": {
    "execution": {
     "iopub.execute_input": "2022-01-10T11:10:41.533394Z",
     "iopub.status.busy": "2022-01-10T11:10:41.532408Z",
     "iopub.status.idle": "2022-01-10T11:10:41.535232Z",
     "shell.execute_reply": "2022-01-10T11:10:41.535723Z"
    }
   },
   "outputs": [
    {
     "data": {
      "text/plain": [
       "5.99356508255005"
      ]
     },
     "execution_count": 20,
     "metadata": {},
     "output_type": "execute_result"
    }
   ],
   "source": [
    "field.ramp_time()"
   ]
  },
  {
   "cell_type": "code",
   "execution_count": 21,
   "id": "chubby-nickel",
   "metadata": {
    "execution": {
     "iopub.execute_input": "2022-01-10T11:10:41.539614Z",
     "iopub.status.busy": "2022-01-10T11:10:41.538925Z",
     "iopub.status.idle": "2022-01-10T11:10:42.544614Z",
     "shell.execute_reply": "2022-01-10T11:10:42.545122Z"
    }
   },
   "outputs": [
    {
     "data": {
      "text/plain": [
       "4.984155893325806"
      ]
     },
     "execution_count": 21,
     "metadata": {},
     "output_type": "execute_result"
    }
   ],
   "source": [
    "import time\n",
    "time.sleep(1.)\n",
    "field.ramp_time()"
   ]
  },
  {
   "cell_type": "code",
   "execution_count": 22,
   "id": "italian-liberty",
   "metadata": {
    "execution": {
     "iopub.execute_input": "2022-01-10T11:10:42.549247Z",
     "iopub.status.busy": "2022-01-10T11:10:42.548645Z",
     "iopub.status.idle": "2022-01-10T11:10:43.554855Z",
     "shell.execute_reply": "2022-01-10T11:10:43.555565Z"
    }
   },
   "outputs": [
    {
     "data": {
      "text/plain": [
       "3.9740078449249268"
      ]
     },
     "execution_count": 22,
     "metadata": {},
     "output_type": "execute_result"
    }
   ],
   "source": [
    "import time\n",
    "time.sleep(1.)\n",
    "field.ramp_time()"
   ]
  },
  {
   "cell_type": "markdown",
   "id": "fd4c5bc9",
   "metadata": {},
   "source": [
    "# Devices with channels"
   ]
  },
  {
   "cell_type": "markdown",
   "id": "fe9bc737",
   "metadata": {},
   "source": [
    "The YAML file below specifies the instruments with the channels/parameters we wish to group into a new instrument, here called \"device\". The first example simply adds the channel 'as is' using self.add_submodule, while the readout parameter is added as a DelegateParameter."
   ]
  },
  {
   "cell_type": "code",
   "execution_count": 23,
   "id": "3ecf2fae",
   "metadata": {
    "execution": {
     "iopub.execute_input": "2022-01-10T11:10:43.562949Z",
     "iopub.status.busy": "2022-01-10T11:10:43.561849Z",
     "iopub.status.idle": "2022-01-10T11:10:43.564999Z",
     "shell.execute_reply": "2022-01-10T11:10:43.565665Z"
    }
   },
   "outputs": [
    {
     "name": "stdout",
     "output_type": "stream",
     "text": [
      "Overwriting example.yaml\n"
     ]
    }
   ],
   "source": [
    "%%writefile example.yaml\n",
    "\n",
    "instruments:\n",
    "  lockin:\n",
    "    type: qcodes.tests.instrument_mocks.MockLockin\n",
    "\n",
    "  dac:\n",
    "    type: qcodes.tests.instrument_mocks.MockDAC   \n",
    "\n",
    "  device:\n",
    "    type: qcodes.instrument.delegate.DelegateInstrument\n",
    "    init:\n",
    "      parameters:\n",
    "        readout: lockin.X\n",
    "      channels:\n",
    "        gate_1: dac.ch01\n",
    "      set_initial_values_on_load: true\n",
    "      initial_values:\n",
    "        readout: 1e-5\n",
    "        gate_1.voltage.post_delay: 0.01"
   ]
  },
  {
   "cell_type": "code",
   "execution_count": 24,
   "id": "8706e2dd",
   "metadata": {
    "execution": {
     "iopub.execute_input": "2022-01-10T11:10:43.570665Z",
     "iopub.status.busy": "2022-01-10T11:10:43.570076Z",
     "iopub.status.idle": "2022-01-10T11:10:43.585532Z",
     "shell.execute_reply": "2022-01-10T11:10:43.585008Z"
    }
   },
   "outputs": [],
   "source": [
    "station = qc.Station(config_file=\"example.yaml\")"
   ]
  },
  {
   "cell_type": "code",
   "execution_count": 25,
   "id": "587aa55f",
   "metadata": {
    "execution": {
     "iopub.execute_input": "2022-01-10T11:10:43.590134Z",
     "iopub.status.busy": "2022-01-10T11:10:43.589552Z",
     "iopub.status.idle": "2022-01-10T11:10:43.634408Z",
     "shell.execute_reply": "2022-01-10T11:10:43.633837Z"
    }
   },
   "outputs": [],
   "source": [
    "lockin = station.load_lockin()\n",
    "dac = station.load_dac()\n",
    "device = station.load_device(station=station)"
   ]
  },
  {
   "cell_type": "code",
   "execution_count": 26,
   "id": "a115c220",
   "metadata": {
    "execution": {
     "iopub.execute_input": "2022-01-10T11:10:43.640193Z",
     "iopub.status.busy": "2022-01-10T11:10:43.639469Z",
     "iopub.status.idle": "2022-01-10T11:10:43.641966Z",
     "shell.execute_reply": "2022-01-10T11:10:43.642635Z"
    }
   },
   "outputs": [
    {
     "name": "stdout",
     "output_type": "stream",
     "text": [
      "<MockDACChannel: dac_ch01 of MockDAC: dac>\n",
      "0.01\n"
     ]
    }
   ],
   "source": [
    "print(device.gate_1)\n",
    "print(device.gate_1.voltage.post_delay)"
   ]
  },
  {
   "cell_type": "code",
   "execution_count": 27,
   "id": "1ff88b51",
   "metadata": {
    "execution": {
     "iopub.execute_input": "2022-01-10T11:10:43.647487Z",
     "iopub.status.busy": "2022-01-10T11:10:43.645617Z",
     "iopub.status.idle": "2022-01-10T11:10:43.662626Z",
     "shell.execute_reply": "2022-01-10T11:10:43.663110Z"
    }
   },
   "outputs": [
    {
     "name": "stdout",
     "output_type": "stream",
     "text": [
      "0.0\n"
     ]
    },
    {
     "data": {
      "text/plain": [
       "-0.6"
      ]
     },
     "execution_count": 27,
     "metadata": {},
     "output_type": "execute_result"
    }
   ],
   "source": [
    "print(device.gate_1.voltage())\n",
    "device.gate_1.voltage(-0.6)\n",
    "device.gate_1.voltage()"
   ]
  },
  {
   "cell_type": "markdown",
   "id": "e8511347",
   "metadata": {},
   "source": [
    "The second example adds a channel using a custom channel class, which takes the initial channel and its name as input and has a parameter current_valid_ranges."
   ]
  },
  {
   "cell_type": "code",
   "execution_count": 28,
   "id": "7a8687d9",
   "metadata": {
    "execution": {
     "iopub.execute_input": "2022-01-10T11:10:43.670712Z",
     "iopub.status.busy": "2022-01-10T11:10:43.669251Z",
     "iopub.status.idle": "2022-01-10T11:10:43.673125Z",
     "shell.execute_reply": "2022-01-10T11:10:43.672534Z"
    }
   },
   "outputs": [
    {
     "name": "stdout",
     "output_type": "stream",
     "text": [
      "Overwriting example.yaml\n"
     ]
    }
   ],
   "source": [
    "%%writefile example.yaml\n",
    "\n",
    "instruments:\n",
    "  lockin:\n",
    "    type: qcodes.tests.instrument_mocks.MockLockin\n",
    "\n",
    "  dac:\n",
    "    type: qcodes.tests.instrument_mocks.MockDAC   \n",
    "\n",
    "  device:\n",
    "    type: qcodes.instrument.delegate.DelegateInstrument\n",
    "    init:\n",
    "      parameters:\n",
    "        readout: lockin.X\n",
    "      channels:\n",
    "        type: qcodes.tests.instrument_mocks.MockCustomChannel\n",
    "        gate_1: \n",
    "          channel: dac.ch01\n",
    "          current_valid_range: [-0.5, 0]\n",
    "      set_initial_values_on_load: true\n",
    "      initial_values:\n",
    "        readout: 1e-5"
   ]
  },
  {
   "cell_type": "code",
   "execution_count": 29,
   "id": "f03774df",
   "metadata": {
    "execution": {
     "iopub.execute_input": "2022-01-10T11:10:43.679255Z",
     "iopub.status.busy": "2022-01-10T11:10:43.677822Z",
     "iopub.status.idle": "2022-01-10T11:10:43.679856Z",
     "shell.execute_reply": "2022-01-10T11:10:43.680340Z"
    }
   },
   "outputs": [],
   "source": [
    "lockin.close()\n",
    "dac.close()"
   ]
  },
  {
   "cell_type": "code",
   "execution_count": 30,
   "id": "a25c71c2",
   "metadata": {
    "execution": {
     "iopub.execute_input": "2022-01-10T11:10:43.684742Z",
     "iopub.status.busy": "2022-01-10T11:10:43.684094Z",
     "iopub.status.idle": "2022-01-10T11:10:43.731664Z",
     "shell.execute_reply": "2022-01-10T11:10:43.730989Z"
    }
   },
   "outputs": [],
   "source": [
    "station = qc.Station(config_file=\"example.yaml\")\n",
    "lockin = station.load_lockin()\n",
    "dac = station.load_dac()"
   ]
  },
  {
   "cell_type": "code",
   "execution_count": 31,
   "id": "d75a1ad9",
   "metadata": {
    "execution": {
     "iopub.execute_input": "2022-01-10T11:10:43.735681Z",
     "iopub.status.busy": "2022-01-10T11:10:43.735117Z",
     "iopub.status.idle": "2022-01-10T11:10:43.752102Z",
     "shell.execute_reply": "2022-01-10T11:10:43.751638Z"
    }
   },
   "outputs": [],
   "source": [
    "device = station.load_device(station=station)"
   ]
  },
  {
   "cell_type": "code",
   "execution_count": 32,
   "id": "eda69223",
   "metadata": {
    "execution": {
     "iopub.execute_input": "2022-01-10T11:10:43.758859Z",
     "iopub.status.busy": "2022-01-10T11:10:43.757211Z",
     "iopub.status.idle": "2022-01-10T11:10:43.761192Z",
     "shell.execute_reply": "2022-01-10T11:10:43.760734Z"
    }
   },
   "outputs": [
    {
     "data": {
      "text/plain": [
       "<MockCustomChannel: dac_gate_1 of MockDAC: dac>"
      ]
     },
     "execution_count": 32,
     "metadata": {},
     "output_type": "execute_result"
    }
   ],
   "source": [
    "device.gate_1"
   ]
  },
  {
   "cell_type": "code",
   "execution_count": 33,
   "id": "2ca215dd",
   "metadata": {
    "execution": {
     "iopub.execute_input": "2022-01-10T11:10:43.766534Z",
     "iopub.status.busy": "2022-01-10T11:10:43.764915Z",
     "iopub.status.idle": "2022-01-10T11:10:43.767333Z",
     "shell.execute_reply": "2022-01-10T11:10:43.767973Z"
    }
   },
   "outputs": [],
   "source": [
    "device.gate_1.voltage(-0.3)"
   ]
  },
  {
   "cell_type": "code",
   "execution_count": 34,
   "id": "4f8dc78d",
   "metadata": {
    "execution": {
     "iopub.execute_input": "2022-01-10T11:10:43.773687Z",
     "iopub.status.busy": "2022-01-10T11:10:43.772542Z",
     "iopub.status.idle": "2022-01-10T11:10:43.776004Z",
     "shell.execute_reply": "2022-01-10T11:10:43.775436Z"
    }
   },
   "outputs": [
    {
     "data": {
      "text/plain": [
       "-0.3"
      ]
     },
     "execution_count": 34,
     "metadata": {},
     "output_type": "execute_result"
    }
   ],
   "source": [
    "device.gate_1.voltage()"
   ]
  },
  {
   "cell_type": "markdown",
   "id": "0d86f1df",
   "metadata": {},
   "source": [
    "The MockCustomChannel has a parameter `current_valid_range`."
   ]
  },
  {
   "cell_type": "code",
   "execution_count": 35,
   "id": "509212b1",
   "metadata": {
    "execution": {
     "iopub.execute_input": "2022-01-10T11:10:43.781829Z",
     "iopub.status.busy": "2022-01-10T11:10:43.780758Z",
     "iopub.status.idle": "2022-01-10T11:10:43.784747Z",
     "shell.execute_reply": "2022-01-10T11:10:43.783890Z"
    }
   },
   "outputs": [
    {
     "data": {
      "text/plain": [
       "[-0.5, 0]"
      ]
     },
     "execution_count": 35,
     "metadata": {},
     "output_type": "execute_result"
    }
   ],
   "source": [
    "device.gate_1.current_valid_range()"
   ]
  }
 ],
 "metadata": {
  "kernelspec": {
   "display_name": "Python 3.7.9 64-bit ('qcodes_fork': conda)",
   "name": "python379jvsc74a57bd02b540bc2d5f6bd8c1d4c354bd6559a26f5871610d8f84463e1d37eff37c7ba44"
  },
  "language_info": {
   "codemirror_mode": {
    "name": "ipython",
    "version": 3
   },
   "file_extension": ".py",
   "mimetype": "text/x-python",
   "name": "python",
   "nbconvert_exporter": "python",
   "pygments_lexer": "ipython3",
   "version": "3.9.9"
  }
 },
 "nbformat": 4,
 "nbformat_minor": 5
}
