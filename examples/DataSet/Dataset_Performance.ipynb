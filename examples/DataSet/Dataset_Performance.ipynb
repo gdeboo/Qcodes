{
 "cells": [
  {
   "cell_type": "markdown",
   "metadata": {},
   "source": [
    "# DataSet Performance\n",
    "\n",
    "This notebook shows the trade-off between inserting data into a database row-by-row and as binary blobs. Inserting the data row-by-row means that we have direct access to all the data and may perform queries directly on the values of the data. On the other hand, as we shall see, this is much slower than inserting the data directly as binary blobs."
   ]
  },
  {
   "cell_type": "markdown",
   "metadata": {},
   "source": [
    "First, we choose a new location for the database to ensure that we don't add a bunch of benchmarking data to the default one."
   ]
  },
  {
   "cell_type": "code",
   "execution_count": 1,
   "metadata": {
    "execution": {
     "iopub.execute_input": "2022-01-10T11:04:02.709503Z",
     "iopub.status.busy": "2022-01-10T11:04:02.708973Z",
     "iopub.status.idle": "2022-01-10T11:04:02.992338Z",
     "shell.execute_reply": "2022-01-10T11:04:02.991779Z"
    }
   },
   "outputs": [],
   "source": [
    "import os\n",
    "cwd = os.getcwd()\n",
    "import qcodes as qc\n",
    "qc.config[\"core\"][\"db_location\"] = os.path.join(cwd, 'testing.db')\n"
   ]
  },
  {
   "cell_type": "code",
   "execution_count": 2,
   "metadata": {
    "execution": {
     "iopub.execute_input": "2022-01-10T11:04:03.000009Z",
     "iopub.status.busy": "2022-01-10T11:04:02.999487Z",
     "iopub.status.idle": "2022-01-10T11:04:03.747277Z",
     "shell.execute_reply": "2022-01-10T11:04:03.746628Z"
    }
   },
   "outputs": [],
   "source": [
    "%matplotlib inline\n",
    "import time\n",
    "import matplotlib.pyplot as plt\n",
    "import numpy as np\n",
    "\n",
    "import qcodes as qc\n",
    "from qcodes.instrument.parameter import ManualParameter\n",
    "from qcodes.dataset.experiment_container import (Experiment,\n",
    "                                                 load_last_experiment,\n",
    "                                                 new_experiment)\n",
    "from qcodes.dataset.sqlite.database import initialise_database\n",
    "from qcodes import load_or_create_experiment\n",
    "from qcodes.dataset.measurements import Measurement"
   ]
  },
  {
   "cell_type": "code",
   "execution_count": 3,
   "metadata": {
    "execution": {
     "iopub.execute_input": "2022-01-10T11:04:03.752491Z",
     "iopub.status.busy": "2022-01-10T11:04:03.751331Z",
     "iopub.status.idle": "2022-01-10T11:04:03.862950Z",
     "shell.execute_reply": "2022-01-10T11:04:03.862444Z"
    }
   },
   "outputs": [
    {
     "name": "stdout",
     "output_type": "stream",
     "text": [
      "\r",
      "0it [00:00, ?it/s]"
     ]
    },
    {
     "name": "stdout",
     "output_type": "stream",
     "text": [
      "\r",
      "Upgrading database; v0 -> v1: : 0it [00:00, ?it/s]"
     ]
    },
    {
     "name": "stdout",
     "output_type": "stream",
     "text": [
      "\r",
      "Upgrading database; v0 -> v1: : 0it [00:00, ?it/s]"
     ]
    },
    {
     "name": "stdout",
     "output_type": "stream",
     "text": [
      "\n"
     ]
    },
    {
     "name": "stdout",
     "output_type": "stream",
     "text": [
      "\r",
      "  0%|          | 0/1 [00:00<?, ?it/s]"
     ]
    },
    {
     "name": "stdout",
     "output_type": "stream",
     "text": [
      "\r",
      "Upgrading database; v1 -> v2:   0%|          | 0/1 [00:00<?, ?it/s]"
     ]
    },
    {
     "name": "stdout",
     "output_type": "stream",
     "text": [
      "\r",
      "Upgrading database; v1 -> v2: 100%|██████████| 1/1 [00:00<00:00, 547.20it/s]"
     ]
    },
    {
     "name": "stdout",
     "output_type": "stream",
     "text": [
      "\n"
     ]
    },
    {
     "name": "stdout",
     "output_type": "stream",
     "text": [
      "\r",
      "0it [00:00, ?it/s]"
     ]
    },
    {
     "name": "stdout",
     "output_type": "stream",
     "text": [
      "\r",
      "Upgrading database; v2 -> v3: : 0it [00:00, ?it/s]"
     ]
    },
    {
     "name": "stdout",
     "output_type": "stream",
     "text": [
      "\r",
      "Upgrading database; v2 -> v3: : 0it [00:00, ?it/s]"
     ]
    },
    {
     "name": "stdout",
     "output_type": "stream",
     "text": [
      "\n"
     ]
    },
    {
     "name": "stdout",
     "output_type": "stream",
     "text": [
      "\r",
      "0it [00:00, ?it/s]"
     ]
    },
    {
     "name": "stdout",
     "output_type": "stream",
     "text": [
      "\r",
      "Upgrading database; v3 -> v4: : 0it [00:00, ?it/s]"
     ]
    },
    {
     "name": "stdout",
     "output_type": "stream",
     "text": [
      "\r",
      "Upgrading database; v3 -> v4: : 0it [00:00, ?it/s]"
     ]
    },
    {
     "name": "stdout",
     "output_type": "stream",
     "text": [
      "\n"
     ]
    },
    {
     "name": "stdout",
     "output_type": "stream",
     "text": [
      "\r",
      "  0%|          | 0/1 [00:00<?, ?it/s]"
     ]
    },
    {
     "name": "stdout",
     "output_type": "stream",
     "text": [
      "\r",
      "Upgrading database; v4 -> v5:   0%|          | 0/1 [00:00<?, ?it/s]"
     ]
    },
    {
     "name": "stdout",
     "output_type": "stream",
     "text": [
      "\r",
      "Upgrading database; v4 -> v5: 100%|██████████| 1/1 [00:00<00:00, 445.87it/s]"
     ]
    },
    {
     "name": "stdout",
     "output_type": "stream",
     "text": [
      "\n"
     ]
    },
    {
     "name": "stdout",
     "output_type": "stream",
     "text": [
      "\r",
      "0it [00:00, ?it/s]"
     ]
    },
    {
     "name": "stdout",
     "output_type": "stream",
     "text": [
      "\r",
      "Upgrading database; v5 -> v6: : 0it [00:00, ?it/s]"
     ]
    },
    {
     "name": "stdout",
     "output_type": "stream",
     "text": [
      "\r",
      "Upgrading database; v5 -> v6: : 0it [00:00, ?it/s]"
     ]
    },
    {
     "name": "stdout",
     "output_type": "stream",
     "text": [
      "\n"
     ]
    },
    {
     "name": "stdout",
     "output_type": "stream",
     "text": [
      "\r",
      "  0%|          | 0/1 [00:00<?, ?it/s]"
     ]
    },
    {
     "name": "stdout",
     "output_type": "stream",
     "text": [
      "\r",
      "Upgrading database; v6 -> v7:   0%|          | 0/1 [00:00<?, ?it/s]"
     ]
    },
    {
     "name": "stdout",
     "output_type": "stream",
     "text": [
      "\r",
      "Upgrading database; v6 -> v7: 100%|██████████| 1/1 [00:00<00:00, 383.32it/s]"
     ]
    },
    {
     "name": "stdout",
     "output_type": "stream",
     "text": [
      "\n"
     ]
    },
    {
     "name": "stdout",
     "output_type": "stream",
     "text": [
      "\r",
      "  0%|          | 0/1 [00:00<?, ?it/s]"
     ]
    },
    {
     "name": "stdout",
     "output_type": "stream",
     "text": [
      "\r",
      "Upgrading database; v7 -> v8:   0%|          | 0/1 [00:00<?, ?it/s]"
     ]
    },
    {
     "name": "stdout",
     "output_type": "stream",
     "text": [
      "\r",
      "Upgrading database; v7 -> v8: 100%|██████████| 1/1 [00:00<00:00, 514.83it/s]"
     ]
    },
    {
     "name": "stdout",
     "output_type": "stream",
     "text": [
      "\n"
     ]
    },
    {
     "name": "stdout",
     "output_type": "stream",
     "text": [
      "\r",
      "  0%|          | 0/1 [00:00<?, ?it/s]"
     ]
    },
    {
     "name": "stdout",
     "output_type": "stream",
     "text": [
      "\r",
      "Upgrading database; v8 -> v9:   0%|          | 0/1 [00:00<?, ?it/s]"
     ]
    },
    {
     "name": "stdout",
     "output_type": "stream",
     "text": [
      "\r",
      "Upgrading database; v8 -> v9: 100%|██████████| 1/1 [00:00<00:00, 543.87it/s]"
     ]
    },
    {
     "name": "stdout",
     "output_type": "stream",
     "text": [
      "\n"
     ]
    }
   ],
   "source": [
    "initialise_database()\n",
    "exp = load_or_create_experiment(experiment_name='tutorial_exp', sample_name=\"no sample\")"
   ]
  },
  {
   "cell_type": "markdown",
   "metadata": {},
   "source": [
    "Here, we define a simple function to benchmark the time it takes to insert n points with either numeric or array data type.\n",
    "We will compare both the time used to call ``add_result`` and the time used for the full measurement."
   ]
  },
  {
   "cell_type": "code",
   "execution_count": 4,
   "metadata": {
    "execution": {
     "iopub.execute_input": "2022-01-10T11:04:03.871369Z",
     "iopub.status.busy": "2022-01-10T11:04:03.870572Z",
     "iopub.status.idle": "2022-01-10T11:04:03.874565Z",
     "shell.execute_reply": "2022-01-10T11:04:03.874034Z"
    }
   },
   "outputs": [],
   "source": [
    "def insert_data(paramtype, npoints, nreps=1):\n",
    "\n",
    "    meas = Measurement(exp=exp)\n",
    "\n",
    "    x1 = ManualParameter('x1')\n",
    "    x2 = ManualParameter('x2')\n",
    "    x3 = ManualParameter('x3')\n",
    "    y1 = ManualParameter('y1')\n",
    "    y2 = ManualParameter('y2')\n",
    "\n",
    "    meas.register_parameter(x1, paramtype=paramtype)\n",
    "    meas.register_parameter(x2, paramtype=paramtype)\n",
    "    meas.register_parameter(x3, paramtype=paramtype)\n",
    "    meas.register_parameter(y1, setpoints=[x1, x2, x3],\n",
    "                            paramtype=paramtype)\n",
    "    meas.register_parameter(y2, setpoints=[x1, x2, x3],\n",
    "                            paramtype=paramtype)\n",
    "    start = time.perf_counter()\n",
    "    with meas.run() as datasaver:\n",
    "        start_adding = time.perf_counter()\n",
    "        for i in range(nreps):\n",
    "            datasaver.add_result((x1, np.random.rand(npoints)),\n",
    "                                 (x2, np.random.rand(npoints)),\n",
    "                                 (x3, np.random.rand(npoints)),\n",
    "                                 (y1, np.random.rand(npoints)),\n",
    "                                 (y2, np.random.rand(npoints)))\n",
    "        stop_adding = time.perf_counter()\n",
    "        run_id = datasaver.run_id\n",
    "    stop = time.perf_counter()\n",
    "    tot_time = stop - start\n",
    "    add_time = stop_adding - start_adding\n",
    "    return tot_time, add_time, run_id"
   ]
  },
  {
   "cell_type": "markdown",
   "metadata": {},
   "source": [
    "## Comparison between numeric/array data and binary blob"
   ]
  },
  {
   "cell_type": "markdown",
   "metadata": {},
   "source": [
    "### Case1: Short experiment time"
   ]
  },
  {
   "cell_type": "code",
   "execution_count": 5,
   "metadata": {
    "execution": {
     "iopub.execute_input": "2022-01-10T11:04:03.881078Z",
     "iopub.status.busy": "2022-01-10T11:04:03.880369Z",
     "iopub.status.idle": "2022-01-10T11:04:04.746088Z",
     "shell.execute_reply": "2022-01-10T11:04:04.746569Z"
    }
   },
   "outputs": [
    {
     "name": "stdout",
     "output_type": "stream",
     "text": [
      "Starting experimental run with id: 1. \n",
      "Starting experimental run with id: 2. \n",
      "Starting experimental run with id: 3. \n"
     ]
    },
    {
     "name": "stdout",
     "output_type": "stream",
     "text": [
      "Starting experimental run with id: 4. \n"
     ]
    },
    {
     "name": "stdout",
     "output_type": "stream",
     "text": [
      "Starting experimental run with id: 5. \n"
     ]
    },
    {
     "name": "stdout",
     "output_type": "stream",
     "text": [
      "Starting experimental run with id: 6. \n",
      "Starting experimental run with id: 7. \n"
     ]
    },
    {
     "name": "stdout",
     "output_type": "stream",
     "text": [
      "Starting experimental run with id: 8. \n"
     ]
    },
    {
     "name": "stdout",
     "output_type": "stream",
     "text": [
      "Starting experimental run with id: 9. \n"
     ]
    },
    {
     "name": "stdout",
     "output_type": "stream",
     "text": [
      "Starting experimental run with id: 10. \n",
      "Starting experimental run with id: 11. \n"
     ]
    },
    {
     "name": "stdout",
     "output_type": "stream",
     "text": [
      "Starting experimental run with id: 12. \n",
      "Starting experimental run with id: 13. \n"
     ]
    },
    {
     "name": "stdout",
     "output_type": "stream",
     "text": [
      "Starting experimental run with id: 14. \n"
     ]
    }
   ],
   "source": [
    "sizes = [1,500,1000,2000,3000,4000,5000]\n",
    "t_numeric = []\n",
    "t_numeric_add = []\n",
    "t_array = []\n",
    "t_array_add = []\n",
    "for size in sizes:\n",
    "    tn, tna, run_id_n =  insert_data('numeric', size)\n",
    "    t_numeric.append(tn)\n",
    "    t_numeric_add.append(tna)\n",
    "\n",
    "    ta, taa, run_id_a =  insert_data('array', size)\n",
    "    t_array.append(ta)\n",
    "    t_array_add.append(taa)"
   ]
  },
  {
   "cell_type": "code",
   "execution_count": 6,
   "metadata": {
    "execution": {
     "iopub.execute_input": "2022-01-10T11:04:04.767751Z",
     "iopub.status.busy": "2022-01-10T11:04:04.756416Z",
     "iopub.status.idle": "2022-01-10T11:04:05.016072Z",
     "shell.execute_reply": "2022-01-10T11:04:05.015567Z"
    }
   },
   "outputs": [
    {
     "data": {
      "image/png": "[encoded data removed]",
      "text/plain": [
       "<Figure size 432x288 with 1 Axes>"
      ]
     },
     "metadata": {
      "needs_background": "light"
     },
     "output_type": "display_data"
    }
   ],
   "source": [
    "fig, ax = plt.subplots(1,1)\n",
    "ax.plot(sizes, t_numeric, 'o-', label='Inserting row-by-row')\n",
    "ax.plot(sizes, t_numeric_add, 'o-', label='Inserting row-by-row: add_result only')\n",
    "ax.plot(sizes, t_array, 'd-', label='Inserting as binary blob')\n",
    "ax.plot(sizes, t_array_add, 'd-', label='Inserting as binary blob: add_result only')\n",
    "ax.legend()\n",
    "ax.set_xlabel('Array length')\n",
    "ax.set_ylabel('Time (s)')\n",
    "fig.tight_layout()"
   ]
  },
  {
   "cell_type": "markdown",
   "metadata": {},
   "source": [
    "As shown in the latter figure, the time to setup and and close the experiment is approximately 0.4 sec. In case of small array sizes, the difference between inserting values of data as arrays and inserting them row-by-row is relatively unimportant. At larger array sizes, i.e. above 10000 points, the cost of writing data as individual datapoints starts to become important.\n"
   ]
  },
  {
   "cell_type": "markdown",
   "metadata": {},
   "source": [
    "### Case2: Long experiment time "
   ]
  },
  {
   "cell_type": "code",
   "execution_count": 7,
   "metadata": {
    "execution": {
     "iopub.execute_input": "2022-01-10T11:04:05.023463Z",
     "iopub.status.busy": "2022-01-10T11:04:05.022704Z",
     "iopub.status.idle": "2022-01-10T11:04:56.823137Z",
     "shell.execute_reply": "2022-01-10T11:04:56.822641Z"
    }
   },
   "outputs": [
    {
     "name": "stdout",
     "output_type": "stream",
     "text": [
      "Starting experimental run with id: 15. \n",
      "Starting experimental run with id: 16. \n",
      "Starting experimental run with id: 17. \n"
     ]
    },
    {
     "name": "stdout",
     "output_type": "stream",
     "text": [
      "Starting experimental run with id: 18. \n",
      "Starting experimental run with id: 19. \n"
     ]
    },
    {
     "name": "stdout",
     "output_type": "stream",
     "text": [
      "Starting experimental run with id: 20. \n",
      "Starting experimental run with id: 21. \n"
     ]
    },
    {
     "name": "stdout",
     "output_type": "stream",
     "text": [
      "Starting experimental run with id: 22. \n"
     ]
    },
    {
     "name": "stdout",
     "output_type": "stream",
     "text": [
      "Starting experimental run with id: 23. \n"
     ]
    },
    {
     "name": "stdout",
     "output_type": "stream",
     "text": [
      "Starting experimental run with id: 24. \n"
     ]
    },
    {
     "name": "stdout",
     "output_type": "stream",
     "text": [
      "Starting experimental run with id: 25. \n"
     ]
    },
    {
     "name": "stdout",
     "output_type": "stream",
     "text": [
      "Starting experimental run with id: 26. \n"
     ]
    },
    {
     "name": "stdout",
     "output_type": "stream",
     "text": [
      "Starting experimental run with id: 27. \n"
     ]
    },
    {
     "name": "stdout",
     "output_type": "stream",
     "text": [
      "Starting experimental run with id: 28. \n"
     ]
    }
   ],
   "source": [
    "sizes = [1,500,1000,2000,3000,4000,5000]\n",
    "nreps = 100\n",
    "t_numeric = []\n",
    "t_numeric_add = []\n",
    "t_numeric_run_ids = []\n",
    "t_array = []\n",
    "t_array_add = []\n",
    "t_array_run_ids = []\n",
    "for size in sizes:\n",
    "    tn, tna, run_id_n =  insert_data('numeric', size, nreps=nreps)\n",
    "    t_numeric.append(tn)\n",
    "    t_numeric_add.append(tna)\n",
    "    t_numeric_run_ids.append(run_id_n)\n",
    "\n",
    "    ta, taa, run_id_a =  insert_data('array', size, nreps=nreps)\n",
    "    t_array.append(ta)\n",
    "    t_array_add.append(taa)\n",
    "    t_array_run_ids.append(run_id_a)"
   ]
  },
  {
   "cell_type": "code",
   "execution_count": 8,
   "metadata": {
    "execution": {
     "iopub.execute_input": "2022-01-10T11:04:56.826401Z",
     "iopub.status.busy": "2022-01-10T11:04:56.825755Z",
     "iopub.status.idle": "2022-01-10T11:04:57.122332Z",
     "shell.execute_reply": "2022-01-10T11:04:57.121219Z"
    },
    "scrolled": true
   },
   "outputs": [
    {
     "data": {
      "image/png": "[encoded data removed]",
      "text/plain": [
       "<Figure size 432x288 with 1 Axes>"
      ]
     },
     "metadata": {
      "needs_background": "light"
     },
     "output_type": "display_data"
    }
   ],
   "source": [
    "fig, ax = plt.subplots(1,1)\n",
    "ax.plot(sizes, t_numeric, 'o-', label='Inserting row-by-row')\n",
    "ax.plot(sizes, t_numeric_add, 'o-', label='Inserting row-by-row: add_result only')\n",
    "ax.plot(sizes, t_array, 'd-', label='Inserting as binary blob')\n",
    "ax.plot(sizes, t_array_add, 'd-', label='Inserting as binary blob: add_result only')\n",
    "ax.legend()\n",
    "ax.set_xlabel('Array length')\n",
    "ax.set_ylabel('Time (s)')\n",
    "fig.tight_layout()"
   ]
  },
  {
   "cell_type": "markdown",
   "metadata": {},
   "source": [
    "However, as we increase the length of the experiment, as seen here by repeating the insertion 100 times, we see a big difference between inserting values of the data row-by-row and inserting it as a binary blob."
   ]
  },
  {
   "cell_type": "markdown",
   "metadata": {},
   "source": [
    "## Loading the data "
   ]
  },
  {
   "cell_type": "code",
   "execution_count": 9,
   "metadata": {
    "execution": {
     "iopub.execute_input": "2022-01-10T11:04:57.126247Z",
     "iopub.status.busy": "2022-01-10T11:04:57.124692Z",
     "iopub.status.idle": "2022-01-10T11:04:57.128477Z",
     "shell.execute_reply": "2022-01-10T11:04:57.128083Z"
    }
   },
   "outputs": [],
   "source": [
    "from qcodes.dataset.data_set import load_by_id"
   ]
  },
  {
   "cell_type": "markdown",
   "metadata": {},
   "source": [
    "As usual you can load the data by using the ``load_by_id`` function but you will notice that the different storage methods\n",
    "are reflected in shape of the data as it is retrieved. "
   ]
  },
  {
   "cell_type": "code",
   "execution_count": 10,
   "metadata": {
    "execution": {
     "iopub.execute_input": "2022-01-10T11:04:57.133782Z",
     "iopub.status.busy": "2022-01-10T11:04:57.132408Z",
     "iopub.status.idle": "2022-01-10T11:04:57.134400Z",
     "shell.execute_reply": "2022-01-10T11:04:57.134873Z"
    }
   },
   "outputs": [],
   "source": [
    "run_id_n = t_numeric_run_ids[0]\n",
    "run_id_a = t_array_run_ids[0]"
   ]
  },
  {
   "cell_type": "code",
   "execution_count": 11,
   "metadata": {
    "execution": {
     "iopub.execute_input": "2022-01-10T11:04:57.138427Z",
     "iopub.status.busy": "2022-01-10T11:04:57.137738Z",
     "iopub.status.idle": "2022-01-10T11:04:57.146536Z",
     "shell.execute_reply": "2022-01-10T11:04:57.146974Z"
    },
    "scrolled": true
   },
   "outputs": [
    {
     "data": {
      "text/plain": [
       "{'x1': {'x1': array([0.92703064, 0.92703064, 0.18901705, 0.18901705, 0.63616117,\n",
       "         0.63616117, 0.86185254, 0.86185254, 0.18546548, 0.18546548,\n",
       "         0.11416765, 0.11416765, 0.13303051, 0.13303051, 0.75589076,\n",
       "         0.75589076, 0.47232994, 0.47232994, 0.13334406, 0.13334406,\n",
       "         0.38032386, 0.38032386, 0.6007351 , 0.6007351 , 0.02733447,\n",
       "         0.02733447, 0.45261595, 0.45261595, 0.67979784, 0.67979784,\n",
       "         0.09680005, 0.09680005, 0.09535894, 0.09535894, 0.39268436,\n",
       "         0.39268436, 0.42471804, 0.42471804, 0.60857143, 0.60857143,\n",
       "         0.30124297, 0.30124297, 0.46574567, 0.46574567, 0.95720187,\n",
       "         0.95720187, 0.7748954 , 0.7748954 , 0.73246339, 0.73246339,\n",
       "         0.46036826, 0.46036826, 0.21358521, 0.21358521, 0.02758527,\n",
       "         0.02758527, 0.83394959, 0.83394959, 0.47569963, 0.47569963,\n",
       "         0.26337353, 0.26337353, 0.10685796, 0.10685796, 0.06684836,\n",
       "         0.06684836, 0.09437674, 0.09437674, 0.5493699 , 0.5493699 ,\n",
       "         0.60359458, 0.60359458, 0.70557852, 0.70557852, 0.9763781 ,\n",
       "         0.9763781 , 0.85360901, 0.85360901, 0.84635587, 0.84635587,\n",
       "         0.94735587, 0.94735587, 0.58650001, 0.58650001, 0.26325428,\n",
       "         0.26325428, 0.16227769, 0.16227769, 0.94159948, 0.94159948,\n",
       "         0.10348476, 0.10348476, 0.7817046 , 0.7817046 , 0.7813376 ,\n",
       "         0.7813376 , 0.58117807, 0.58117807, 0.1517296 , 0.1517296 ,\n",
       "         0.65319048, 0.65319048, 0.72501325, 0.72501325, 0.45206969,\n",
       "         0.45206969, 0.34031894, 0.34031894, 0.73567696, 0.73567696,\n",
       "         0.38204389, 0.38204389, 0.78972475, 0.78972475, 0.28761172,\n",
       "         0.28761172, 0.87290484, 0.87290484, 0.74127996, 0.74127996,\n",
       "         0.16693758, 0.16693758, 0.64224636, 0.64224636, 0.93389505,\n",
       "         0.93389505, 0.78000285, 0.78000285, 0.71349854, 0.71349854,\n",
       "         0.21584751, 0.21584751, 0.69824306, 0.69824306, 0.83213334,\n",
       "         0.83213334, 0.27408698, 0.27408698, 0.1998208 , 0.1998208 ,\n",
       "         0.83196316, 0.83196316, 0.85967613, 0.85967613, 0.04877865,\n",
       "         0.04877865, 0.06439613, 0.06439613, 0.77281466, 0.77281466,\n",
       "         0.67172281, 0.67172281, 0.10659502, 0.10659502, 0.33115869,\n",
       "         0.33115869, 0.376614  , 0.376614  , 0.81017104, 0.81017104,\n",
       "         0.45478335, 0.45478335, 0.9371429 , 0.9371429 , 0.63398458,\n",
       "         0.63398458, 0.53883304, 0.53883304, 0.84991806, 0.84991806,\n",
       "         0.36121951, 0.36121951, 0.09378188, 0.09378188, 0.1151513 ,\n",
       "         0.1151513 , 0.30228068, 0.30228068, 0.15140991, 0.15140991,\n",
       "         0.95806983, 0.95806983, 0.21153395, 0.21153395, 0.13090416,\n",
       "         0.13090416, 0.57637146, 0.57637146, 0.28122853, 0.28122853,\n",
       "         0.04814458, 0.04814458, 0.09045577, 0.09045577, 0.248997  ,\n",
       "         0.248997  , 0.94898781, 0.94898781, 0.10705011, 0.10705011])}}"
      ]
     },
     "execution_count": 11,
     "metadata": {},
     "output_type": "execute_result"
    }
   ],
   "source": [
    "ds = load_by_id(run_id_n)\n",
    "ds.get_parameter_data('x1')"
   ]
  },
  {
   "cell_type": "markdown",
   "metadata": {},
   "source": [
    "And a dataset stored as binary arrays"
   ]
  },
  {
   "cell_type": "code",
   "execution_count": 12,
   "metadata": {
    "execution": {
     "iopub.execute_input": "2022-01-10T11:04:57.150576Z",
     "iopub.status.busy": "2022-01-10T11:04:57.150024Z",
     "iopub.status.idle": "2022-01-10T11:04:57.201216Z",
     "shell.execute_reply": "2022-01-10T11:04:57.201828Z"
    },
    "scrolled": true
   },
   "outputs": [
    {
     "data": {
      "text/plain": [
       "{'x1': {'x1': array([[0.72015081],\n",
       "         [0.72015081],\n",
       "         [0.0421852 ],\n",
       "         [0.0421852 ],\n",
       "         [0.55567053],\n",
       "         [0.55567053],\n",
       "         [0.60973912],\n",
       "         [0.60973912],\n",
       "         [0.33541083],\n",
       "         [0.33541083],\n",
       "         [0.38242409],\n",
       "         [0.38242409],\n",
       "         [0.33203913],\n",
       "         [0.33203913],\n",
       "         [0.61392427],\n",
       "         [0.61392427],\n",
       "         [0.42659229],\n",
       "         [0.42659229],\n",
       "         [0.90019517],\n",
       "         [0.90019517],\n",
       "         [0.37019455],\n",
       "         [0.37019455],\n",
       "         [0.09209145],\n",
       "         [0.09209145],\n",
       "         [0.38096142],\n",
       "         [0.38096142],\n",
       "         [0.29439246],\n",
       "         [0.29439246],\n",
       "         [0.79476671],\n",
       "         [0.79476671],\n",
       "         [0.94296912],\n",
       "         [0.94296912],\n",
       "         [0.31864458],\n",
       "         [0.31864458],\n",
       "         [0.0078339 ],\n",
       "         [0.0078339 ],\n",
       "         [0.36068543],\n",
       "         [0.36068543],\n",
       "         [0.36588269],\n",
       "         [0.36588269],\n",
       "         [0.35028979],\n",
       "         [0.35028979],\n",
       "         [0.22137578],\n",
       "         [0.22137578],\n",
       "         [0.33561459],\n",
       "         [0.33561459],\n",
       "         [0.30925394],\n",
       "         [0.30925394],\n",
       "         [0.48701596],\n",
       "         [0.48701596],\n",
       "         [0.94878311],\n",
       "         [0.94878311],\n",
       "         [0.15318237],\n",
       "         [0.15318237],\n",
       "         [0.5845348 ],\n",
       "         [0.5845348 ],\n",
       "         [0.4785362 ],\n",
       "         [0.4785362 ],\n",
       "         [0.69127149],\n",
       "         [0.69127149],\n",
       "         [0.32561453],\n",
       "         [0.32561453],\n",
       "         [0.59070677],\n",
       "         [0.59070677],\n",
       "         [0.64267127],\n",
       "         [0.64267127],\n",
       "         [0.62217607],\n",
       "         [0.62217607],\n",
       "         [0.69981453],\n",
       "         [0.69981453],\n",
       "         [0.96384104],\n",
       "         [0.96384104],\n",
       "         [0.40795379],\n",
       "         [0.40795379],\n",
       "         [0.39098374],\n",
       "         [0.39098374],\n",
       "         [0.76810037],\n",
       "         [0.76810037],\n",
       "         [0.32811217],\n",
       "         [0.32811217],\n",
       "         [0.38057867],\n",
       "         [0.38057867],\n",
       "         [0.77717259],\n",
       "         [0.77717259],\n",
       "         [0.2570651 ],\n",
       "         [0.2570651 ],\n",
       "         [0.32693096],\n",
       "         [0.32693096],\n",
       "         [0.614125  ],\n",
       "         [0.614125  ],\n",
       "         [0.60885529],\n",
       "         [0.60885529],\n",
       "         [0.03878925],\n",
       "         [0.03878925],\n",
       "         [0.60470973],\n",
       "         [0.60470973],\n",
       "         [0.62060396],\n",
       "         [0.62060396],\n",
       "         [0.70172549],\n",
       "         [0.70172549],\n",
       "         [0.5523477 ],\n",
       "         [0.5523477 ],\n",
       "         [0.03015058],\n",
       "         [0.03015058],\n",
       "         [0.26663094],\n",
       "         [0.26663094],\n",
       "         [0.02326634],\n",
       "         [0.02326634],\n",
       "         [0.73704396],\n",
       "         [0.73704396],\n",
       "         [0.88380113],\n",
       "         [0.88380113],\n",
       "         [0.49541483],\n",
       "         [0.49541483],\n",
       "         [0.09367502],\n",
       "         [0.09367502],\n",
       "         [0.08091677],\n",
       "         [0.08091677],\n",
       "         [0.40765246],\n",
       "         [0.40765246],\n",
       "         [0.81020105],\n",
       "         [0.81020105],\n",
       "         [0.81551255],\n",
       "         [0.81551255],\n",
       "         [0.56172957],\n",
       "         [0.56172957],\n",
       "         [0.58598128],\n",
       "         [0.58598128],\n",
       "         [0.28256907],\n",
       "         [0.28256907],\n",
       "         [0.192825  ],\n",
       "         [0.192825  ],\n",
       "         [0.29936817],\n",
       "         [0.29936817],\n",
       "         [0.71543706],\n",
       "         [0.71543706],\n",
       "         [0.0171157 ],\n",
       "         [0.0171157 ],\n",
       "         [0.07252845],\n",
       "         [0.07252845],\n",
       "         [0.69286998],\n",
       "         [0.69286998],\n",
       "         [0.6410163 ],\n",
       "         [0.6410163 ],\n",
       "         [0.52842353],\n",
       "         [0.52842353],\n",
       "         [0.61551374],\n",
       "         [0.61551374],\n",
       "         [0.90116699],\n",
       "         [0.90116699],\n",
       "         [0.21329225],\n",
       "         [0.21329225],\n",
       "         [0.9480081 ],\n",
       "         [0.9480081 ],\n",
       "         [0.88688558],\n",
       "         [0.88688558],\n",
       "         [0.94693363],\n",
       "         [0.94693363],\n",
       "         [0.95635255],\n",
       "         [0.95635255],\n",
       "         [0.35541028],\n",
       "         [0.35541028],\n",
       "         [0.11090333],\n",
       "         [0.11090333],\n",
       "         [0.03541962],\n",
       "         [0.03541962],\n",
       "         [0.55014055],\n",
       "         [0.55014055],\n",
       "         [0.86007362],\n",
       "         [0.86007362],\n",
       "         [0.80464593],\n",
       "         [0.80464593],\n",
       "         [0.66654007],\n",
       "         [0.66654007],\n",
       "         [0.31925047],\n",
       "         [0.31925047],\n",
       "         [0.52894979],\n",
       "         [0.52894979],\n",
       "         [0.55725496],\n",
       "         [0.55725496],\n",
       "         [0.23299882],\n",
       "         [0.23299882],\n",
       "         [0.76910547],\n",
       "         [0.76910547],\n",
       "         [0.65314622],\n",
       "         [0.65314622],\n",
       "         [0.98432164],\n",
       "         [0.98432164],\n",
       "         [0.59967355],\n",
       "         [0.59967355],\n",
       "         [0.87057937],\n",
       "         [0.87057937],\n",
       "         [0.73650539],\n",
       "         [0.73650539],\n",
       "         [0.95780174],\n",
       "         [0.95780174],\n",
       "         [0.81018402],\n",
       "         [0.81018402],\n",
       "         [0.05512856],\n",
       "         [0.05512856]])}}"
      ]
     },
     "execution_count": 12,
     "metadata": {},
     "output_type": "execute_result"
    }
   ],
   "source": [
    "ds = load_by_id(run_id_a)\n",
    "ds.get_parameter_data('x1')"
   ]
  },
  {
   "cell_type": "code",
   "execution_count": null,
   "metadata": {},
   "outputs": [],
   "source": []
  }
 ],
 "metadata": {
  "kernelspec": {
   "display_name": "Python 3",
   "language": "python",
   "name": "python3"
  },
  "language_info": {
   "codemirror_mode": {
    "name": "ipython",
    "version": 3
   },
   "file_extension": ".py",
   "mimetype": "text/x-python",
   "name": "python",
   "nbconvert_exporter": "python",
   "pygments_lexer": "ipython3",
   "version": "3.9.9"
  },
  "nbsphinx": {
   "timeout": 600
  },
  "toc": {
   "base_numbering": 1,
   "nav_menu": {},
   "number_sections": true,
   "sideBar": true,
   "skip_h1_title": false,
   "title_cell": "Table of Contents",
   "title_sidebar": "Contents",
   "toc_cell": false,
   "toc_position": {},
   "toc_section_display": true,
   "toc_window_display": false
  },
  "varInspector": {
   "cols": {
    "lenName": 16,
    "lenType": 16,
    "lenVar": 40
   },
   "kernels_config": {
    "python": {
     "delete_cmd_postfix": "",
     "delete_cmd_prefix": "del ",
     "library": "var_list.py",
     "varRefreshCmd": "print(var_dic_list())"
    },
    "r": {
     "delete_cmd_postfix": ") ",
     "delete_cmd_prefix": "rm(",
     "library": "var_list.r",
     "varRefreshCmd": "cat(var_dic_list()) "
    }
   },
   "types_to_exclude": [
    "module",
    "function",
    "builtin_function_or_method",
    "instance",
    "_Feature"
   ],
   "window_display": false
  }
 },
 "nbformat": 4,
 "nbformat_minor": 4
}
